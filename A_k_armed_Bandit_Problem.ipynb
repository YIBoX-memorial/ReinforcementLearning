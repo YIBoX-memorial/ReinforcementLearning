{
  "nbformat": 4,
  "nbformat_minor": 0,
  "metadata": {
    "colab": {
      "name": "A k-armed Bandit Problem",
      "provenance": [],
      "collapsed_sections": [],
      "authorship_tag": "ABX9TyM22wtgt6l5JvNyRYqD/NNe",
      "include_colab_link": true
    },
    "kernelspec": {
      "name": "python3",
      "display_name": "Python 3"
    }
  },
  "cells": [
    {
      "cell_type": "markdown",
      "metadata": {
        "id": "view-in-github",
        "colab_type": "text"
      },
      "source": [
        "<a href=\"https://colab.research.google.com/github/YIBoX-memorial/ReinforcementLearning/blob/master/A_k_armed_Bandit_Problem.ipynb\" target=\"_parent\"><img src=\"https://colab.research.google.com/assets/colab-badge.svg\" alt=\"Open In Colab\"/></a>"
      ]
    },
    {
      "cell_type": "markdown",
      "metadata": {
        "id": "f0UhgJp3XRYr"
      },
      "source": [
        "The document contains tests in the *Reinforcement Learning, Chapter 2, A k-armed Bandit Problem*"
      ]
    },
    {
      "cell_type": "markdown",
      "metadata": {
        "id": "UcvmHs4_snvo"
      },
      "source": [
        "# Modules"
      ]
    },
    {
      "cell_type": "code",
      "metadata": {
        "id": "lXBYL9dwsuvM"
      },
      "source": [
        "from math import exp\n",
        "import numpy as np\n",
        "import numpy.random as npr\n",
        "import matplotlib.pyplot as plt"
      ],
      "execution_count": 22,
      "outputs": []
    },
    {
      "cell_type": "markdown",
      "metadata": {
        "id": "cdodPohNZQAJ"
      },
      "source": [
        "# Prototype of Distribution Generator\n",
        "\n",
        "A general distribution generator model."
      ]
    },
    {
      "cell_type": "code",
      "metadata": {
        "id": "icNF1xfIZgtS"
      },
      "source": [
        "class Generator:\n",
        "    __valid_types = ['normal', 'Poisson', 'uniform']\n",
        "    def __init__(self, dtype:str='None', *args, **kwargs):\n",
        "        flag = False\n",
        "        if type != 'None':\n",
        "            for type_i in __valid_types:\n",
        "                if type_i == __valid_types:\n",
        "                    flag = True\n",
        "                    break\n",
        "        if flag == False:\n",
        "            raise TypeError(\"Invalid Distribution Types!\")\n",
        "    def output(self, *args, **kwargs):\n",
        "        pass"
      ],
      "execution_count": 23,
      "outputs": []
    },
    {
      "cell_type": "markdown",
      "metadata": {
        "id": "8zD1bU6nYD8D"
      },
      "source": [
        "# Normal Random Distribution Generator\n",
        "\n",
        "A normal random distribution generator with \\\\(\\mathcal{N}(\\mu,\\sigma)\\\\).\n"
      ]
    },
    {
      "cell_type": "code",
      "metadata": {
        "id": "rz4yOmQJXQUu"
      },
      "source": [
        "class Normal_Generator(Generator):\n",
        "    def __init__(self, dtype:str='normal', mean:float=0.0, deviation:float=1.0, *args, **kwargs):\n",
        "        super(dtype).__init__()\n",
        "        self.__mean=mean\n",
        "        self.__deviation=deviation\n",
        "    def output(self, *args, **kwargs):\n",
        "        # print(self.__mean, self.__deviation, args)\n",
        "        return npr.normal(self.__mean, self.__deviation, args)"
      ],
      "execution_count": 24,
      "outputs": []
    },
    {
      "cell_type": "markdown",
      "metadata": {
        "id": "DoBJhbzPGTgn"
      },
      "source": [
        "# RL Framework\n",
        "\n",
        "RL Framework contains *value function, action, and observation*.\n",
        "\n",
        "\n",
        "1.   Get the observation from the history and environment.\n",
        "2.   Follow the policy and take action.\n",
        "3.   Recycle 1 and 2\n",
        "\n",
        "This RL Framework is typically the prototype for discrete-time RL.\n",
        "\n"
      ]
    },
    {
      "cell_type": "code",
      "metadata": {
        "id": "Oe4xfHbtGwBN"
      },
      "source": [
        "class RLFramework:\n",
        "    def __init__(self):\n",
        "        pass\n",
        "    def action(self):\n",
        "        pass\n",
        "    def observation(self):\n",
        "        pass\n",
        "    def value(self):\n",
        "        pass"
      ],
      "execution_count": 25,
      "outputs": []
    },
    {
      "cell_type": "markdown",
      "metadata": {
        "id": "mp2bAwjfMBHD"
      },
      "source": [
        "# \\\\(\\epsilon\\\\)-Greedy policy\n",
        "\n",
        "for a k-bandit problem."
      ]
    },
    {
      "cell_type": "code",
      "metadata": {
        "id": "HgrMG-AFLKeX"
      },
      "source": [
        "class Epsilon_Greedy(RLFramework):\n",
        "    def __init__(self, epsilon:float=0.0, opt_num:int=0, *args, **kwargs):\n",
        "        super().__init__()\n",
        "        self.__epsilon = epsilon\n",
        "        self.__initiation = 0.0\n",
        "        for kw in kwargs:\n",
        "            if kw == 'initiation':\n",
        "                self.__initiation = kwargs[kw]\n",
        "        self.__value = np.full(shape=opt_num, fill_value=self.__initiation, dtype=float)\n",
        "        self.__accumulation = np.full(shape=opt_num, fill_value=0, dtype=int)\n",
        "        self.__last_action = None\n",
        "        self.__recv = {}\n",
        "        self.__observ = {}\n",
        "    # Reset the agent\n",
        "    def reset(self, *args, **kwargs):\n",
        "        self.__value.fill(self.__initiation)\n",
        "        self.__accumulation.fill(0)\n",
        "        self.__recv.clear()\n",
        "        self.__observ.clear()\n",
        "    # Observe the environment\n",
        "    def observation(self, selection:int=-1, reward:float=0.0, *args, **kwargs):\n",
        "        self.__observ[selection] = reward\n",
        "    # Receive the reward from environment\n",
        "    def receive(self, selection:int=-1, reward:float=0.0, *args, **kwargs):\n",
        "        self.__recv[selection] = reward\n",
        "    # Update the agents' memory\n",
        "    def update(self, *args, **kwargs):\n",
        "        for kw in self.__recv:\n",
        "            if kw != -1:\n",
        "                reward = self.__recv[kw]\n",
        "                self.__accumulation[kw] = self.__accumulation[kw]+1\n",
        "                self.__value[kw] = self.__value[kw]+(self.__recv[kw]-self.__value[kw])/self.__accumulation[kw]\n",
        "        self.__recv.clear()\n",
        "    # Take action\n",
        "    def action(self, *args, **kwargs):\n",
        "        self.update()\n",
        "        selection = 0\n",
        "        for (ind, value) in enumerate(self.__value):\n",
        "            if value > self.__value[selection]:\n",
        "                selection = ind\n",
        "        rand = npr.uniform(low=0, high=1)\n",
        "        if rand < self.__epsilon:\n",
        "            selection = npr.randint(low=0, high=10)\n",
        "        return selection\n",
        "    # Check value\n",
        "    def check_value(self):\n",
        "        for iter in self.__value:\n",
        "            print(iter, ' ')\n",
        "        print('\\n')"
      ],
      "execution_count": 26,
      "outputs": []
    },
    {
      "cell_type": "markdown",
      "metadata": {
        "id": "kY5T30lNVaT1"
      },
      "source": [
        "# Stochastic Gradient Ascent\n",
        "\n",
        "The SGA computes the probability \\\\(\\pi_t(A_t)\\\\) from the preference \\\\(H_t(A_t)\\\\).\n",
        "\n",
        "\\\\(\\pi_t(a)=\\frac{e^{H_t(a)}}{\\sum_{b=1}^k e^{H_t(b)}}\\\\)\n",
        "\n",
        "\\\\(H_{t+1}(A_t)=H_t(A_t)+\\alpha(R_t-\\bar{R}_t)(1-\\pi_t(A_t))\\\\)\n",
        "if \\\\(a=A_t\\\\)\n",
        "\n",
        "\\\\(H_{t+1}(a)=H_t(a)+\\alpha(R_t-\\bar{R}_t)\\pi_t(a)\\\\)\n",
        "if \\\\(a\\neq A_t\\\\)"
      ]
    },
    {
      "cell_type": "code",
      "metadata": {
        "id": "w28DDwEIrJgj"
      },
      "source": [
        "class SGA(RLFramework):\n",
        "    def __init__(self, step_size:float=0.0, opt_num:int=0, *args, **kwargs):\n",
        "        self.__value = 0.0\n",
        "        self.__accumulation = 0.0\n",
        "        self.__memory = 0\n",
        "        self.__probability = np.full(shape=opt_num, fill_value=1.0/opt_num, dtype=float)\n",
        "        self.__preference = np.full(shape=opt_num, fill_value=0.0, dtype=float)\n",
        "        self.__last_action = -1\n",
        "        self.__step_size = step_size\n",
        "    def reset(self, *args, **kwargs):\n",
        "        self.__value = 0.0\n",
        "        self.__accumulation = 0.0\n",
        "        self.__memory = 0\n",
        "        size = self.__preference.size\n",
        "        # print('size: ', size)\n",
        "        self.__probability = np.full(shape=size, fill_value=1.0/size, dtype=float)\n",
        "        self.__preference = np.full(shape=size, fill_value=0.0, dtype=float)\n",
        "        self.__last_action = -1\n",
        "    # Calculate probability\n",
        "    def cal_probability(self, *args, **kwargs):\n",
        "        total = 0.0\n",
        "        for iter in self.__preference:\n",
        "            total = total + exp(iter)\n",
        "        for (index, preference) in enumerate(self.__preference):\n",
        "            self.__probability[index] = exp(self.__preference[index])/total\n",
        "    def cal_preference(self, reward:float=0, *args, **kwargs):\n",
        "        for (index, preference) in enumerate(self.__preference):\n",
        "            if index != self.__last_action:\n",
        "                self.__preference[index] = preference+self.__step_size*(reward-self.__accumulation)*(self.__probability[index])\n",
        "            else:\n",
        "                self.__preference[index] = preference+self.__step_size*(reward-self.__accumulation)*(1-self.__probability[index])\n",
        "    def receive(self, reward:float, *args, **kwargs):\n",
        "        self.cal_preference(reward)\n",
        "        self.cal_probability()\n",
        "        self.__memory = self.__memory+1\n",
        "        self.__accumulation = self.__accumulation+(reward-self.__accumulation)/self.__memory\n",
        "    def action(self, *args, **kwargs):\n",
        "        selection = 0\n",
        "        for (index, probability) in enumerate(self.__probability):\n",
        "            if self.__probability[selection] < probability:\n",
        "                selection = index\n",
        "        self.__last_action = selection\n",
        "        return selection"
      ],
      "execution_count": 27,
      "outputs": []
    },
    {
      "cell_type": "markdown",
      "metadata": {
        "id": "tQB_CXr7edzu"
      },
      "source": [
        "# Environment\n",
        "\n",
        "The environment contains 10 choices, each choice returns a normally distributed reward."
      ]
    },
    {
      "cell_type": "code",
      "metadata": {
        "id": "mVlFkB_lePwL"
      },
      "source": [
        "class Environment:\n",
        "    def __init__(self, *args, **kwargs):\n",
        "        pass\n",
        "    def reward(self, action, *args, **kwargs):\n",
        "        pass"
      ],
      "execution_count": 28,
      "outputs": []
    },
    {
      "cell_type": "code",
      "metadata": {
        "id": "kyPHYPAFfpbT"
      },
      "source": [
        "class TenArmed(Environment):\n",
        "    def __init__(self, opt_num:int=0, *args, **kwargs):\n",
        "        self.__responsors = [Normal_Generator(dtype=float, mean=npr.normal(loc=0.0, scale=1.0), deviation=1.0) for iter in range(opt_num)]\n",
        "    def reset(self, *args, **kwargs):\n",
        "        for iter in range(len(self.__responsors)):\n",
        "            self.__responsors[iter] = Normal_Genenator(dtype=float, mean=npr.normal(loc=0.0, scale=1.0), deviation=1.0)\n",
        "    def reward(self, action:int=0, *args, **kwargs):\n",
        "        # print('action: ', action)\n",
        "        return self.__responsors[action].output()"
      ],
      "execution_count": 29,
      "outputs": []
    },
    {
      "cell_type": "code",
      "metadata": {
        "id": "qJp9Syfozb4J"
      },
      "source": [
        "class ModifiedTenArmed(Environment):\n",
        "    def __init__(self, opt_num:int=0, *args, **kwargs):\n",
        "        self.__responsors = [Normal_Generator(dtype=float, mean=0.0, deviation=0.01) for iter in range(opt_num)]\n",
        "        self.__last_response = [0.0 for iter in range(opt_num)]\n",
        "    def reset(self, *args, **kwargs):\n",
        "        for (index, value) in enumerate(self.__last_response):\n",
        "            self.__last_response[index] = 0.0\n",
        "    def reward(self, action:int=0, *args, **kwargs):\n",
        "        self.__last_response[action] = self.__last_response[action]+self.__responsors[action].output()\n",
        "        return self.__last_response[action]"
      ],
      "execution_count": 30,
      "outputs": []
    },
    {
      "cell_type": "markdown",
      "metadata": {
        "id": "dpKslaUYlKT5"
      },
      "source": [
        "# Interaction"
      ]
    },
    {
      "cell_type": "code",
      "metadata": {
        "id": "hRhNYbTFj7rv"
      },
      "source": [
        "class Interaction:\n",
        "    total_trials = 2000\n",
        "    total_opt = 10\n",
        "    total_step = 1000\n",
        "    agent_0 = Epsilon_Greedy(opt_num=total_opt)\n",
        "    agent_0d1 = Epsilon_Greedy(epsilon=0.1, opt_num=total_opt)\n",
        "    agent_i5 = Epsilon_Greedy(opt_num=total_opt, initiation=5)\n",
        "    agent_sga = SGA(step_size=0.1, opt_num=total_opt)\n",
        "    env = ModifiedTenArmed(opt_num=total_opt)\n",
        "    def plot(self, *args, **kwargs):\n",
        "        axis_x = np.arange(0, self.total_step)\n",
        "        plt.plot(axis_x, self.sum_0, 'b', axis_x, self.sum_0d1, 'g', axis_x, self.sum_i5, 'r', axis_x, self.sum_sga, 'y')\n",
        "        # plt.axis([0, self.total_step, -2, 2])\n",
        "        plt.show()\n",
        "    def process(self, *args, **kwargs):\n",
        "        self.sum_0 = np.full(shape=self.total_step, fill_value=0.0, dtype=float)\n",
        "        self.sum_0d1 = np.full(shape=self.total_step, fill_value=0.0, dtype=float)\n",
        "        self.sum_i5 = np.full(shape=self.total_step, fill_value=0.0, dtype=float)\n",
        "        self.sum_sga = np.full(shape=self.total_step, fill_value=0.0, dtype=float)\n",
        "        for epoch in range(self.total_trials):\n",
        "            self.agent_0.reset()\n",
        "            self.agent_0d1.reset()\n",
        "            self.agent_i5.reset()\n",
        "            self.agent_sga.reset()\n",
        "            self.env.reset()\n",
        "            if epoch%100 == 0:\n",
        "                print('epoch: ', epoch)\n",
        "            for step in range(self.total_step):\n",
        "                act = self.agent_0.action()\n",
        "                reward = self.env.reward(act)\n",
        "                self.agent_0.receive(act, reward)\n",
        "                self.sum_0[step] = self.sum_0[step]+reward\n",
        "\n",
        "                act = self.agent_0d1.action()\n",
        "                reward = self.env.reward(act)\n",
        "                self.agent_0d1.receive(act, reward)\n",
        "                self.sum_0d1[step] = self.sum_0d1[step]+reward\n",
        "\n",
        "                act = self.agent_i5.action()\n",
        "                reward = self.env.reward(act)\n",
        "                self.agent_i5.receive(act, reward)\n",
        "                self.sum_i5[step] = self.sum_i5[step]+reward\n",
        "\n",
        "                act = self.agent_sga.action()\n",
        "                reward = self.env.reward(act)\n",
        "                self.agent_sga.receive(reward)\n",
        "                self.sum_sga[step] = self.sum_sga[step]+reward\n",
        "        for step in range(self.total_step):\n",
        "            self.sum_0[step] = self.sum_0[step]/self.total_trials\n",
        "            self.sum_0d1[step] = self.sum_0d1[step]/self.total_trials\n",
        "            self.sum_i5[step] = self.sum_i5[step]/self.total_trials\n",
        "            self.sum_sga[step] = self.sum_sga[step]/self.total_trials"
      ],
      "execution_count": 31,
      "outputs": []
    },
    {
      "cell_type": "markdown",
      "metadata": {
        "id": "-tS7w4KD7K3-"
      },
      "source": [
        "# Run"
      ]
    },
    {
      "cell_type": "code",
      "metadata": {
        "id": "M1s7ZUQ37Npj",
        "outputId": "6ce699f8-7ba7-442f-9625-9c1e364de320",
        "colab": {
          "base_uri": "https://localhost:8080/",
          "height": 644
        }
      },
      "source": [
        "WORLD = Interaction()\n",
        "\n",
        "WORLD.process()\n",
        "WORLD.plot()"
      ],
      "execution_count": 32,
      "outputs": [
        {
          "output_type": "stream",
          "text": [
            "epoch:  0\n",
            "epoch:  100\n",
            "epoch:  200\n",
            "epoch:  300\n",
            "epoch:  400\n",
            "epoch:  500\n",
            "epoch:  600\n",
            "epoch:  700\n",
            "epoch:  800\n",
            "epoch:  900\n",
            "epoch:  1000\n",
            "epoch:  1100\n",
            "epoch:  1200\n",
            "epoch:  1300\n",
            "epoch:  1400\n",
            "epoch:  1500\n",
            "epoch:  1600\n",
            "epoch:  1700\n",
            "epoch:  1800\n",
            "epoch:  1900\n"
          ],
          "name": "stdout"
        },
        {
          "output_type": "display_data",
          "data": {
            "image/png": "[encoded data removed]",
            "text/plain": [
              "<Figure size 432x288 with 1 Axes>"
            ]
          },
          "metadata": {
            "tags": [],
            "needs_background": "light"
          }
        }
      ]
    }
  ]
}