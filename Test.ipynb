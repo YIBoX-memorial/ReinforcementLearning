{
  "nbformat": 4,
  "nbformat_minor": 0,
  "metadata": {
    "colab": {
      "name": "Copy of Test.ipynb",
      "provenance": [],
      "collapsed_sections": [],
      "authorship_tag": "ABX9TyPRtcSFT+9/YP2PXo/+stTs",
      "include_colab_link": true
    },
    "kernelspec": {
      "name": "python3",
      "display_name": "Python 3"
    }
  },
  "cells": [
    {
      "cell_type": "markdown",
      "metadata": {
        "id": "view-in-github",
        "colab_type": "text"
      },
      "source": [
        "<a href=\"https://colab.research.google.com/github/YIBoX-memorial/ReinforcementLearning/blob/master/Test.ipynb\" target=\"_parent\"><img src=\"https://colab.research.google.com/assets/colab-badge.svg\" alt=\"Open In Colab\"/></a>"
      ]
    },
    {
      "cell_type": "markdown",
      "metadata": {
        "id": "nBVQIVWVcJrU"
      },
      "source": [
        "This is my first try in colab"
      ]
    },
    {
      "cell_type": "code",
      "metadata": {
        "id": "TrfXkBWLcbZY",
        "outputId": "60823e2d-b4f8-4d4b-855e-a58ee0136588",
        "colab": {
          "base_uri": "https://localhost:8080/",
          "height": 36
        }
      },
      "source": [
        "print(\"Hello World\")"
      ],
      "execution_count": null,
      "outputs": [
        {
          "output_type": "stream",
          "text": [
            "Hello World\n"
          ],
          "name": "stdout"
        }
      ]
    },
    {
      "cell_type": "markdown",
      "metadata": {
        "id": "gLQQEOl5chf4"
      },
      "source": [
        "Try tendorflow and pytorch"
      ]
    },
    {
      "cell_type": "code",
      "metadata": {
        "id": "1AkPrHcicnGM"
      },
      "source": [
        "import tensorflow\n",
        "import torch\n",
        "import torchvision\n",
        "use_GPU=False\n",
        "if use_GPU:                                                                     # check GPU settings\n",
        "    ! nvidia-smi                                                                "
      ],
      "execution_count": null,
      "outputs": []
    }
  ]
}